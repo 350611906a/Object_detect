{
 "cells": [
  {
   "cell_type": "markdown",
   "metadata": {},
   "source": [
    "# YOLOV3目标检测-摄像头实时检测"
   ]
  },
  {
   "cell_type": "markdown",
   "metadata": {},
   "source": [
    "YOLOV3算法精讲与论文逐句精读：同济子豪兄：https://space.bilibili.com/1900783\n",
    "\n",
    "不注明出处的转载视为侵权。\n",
    "\n",
    "2021-08-28"
   ]
  },
  {
   "cell_type": "code",
   "execution_count": null,
   "metadata": {},
   "outputs": [],
   "source": [
    "import cv2\r\n",
    "import numpy as np\r\n",
    "# 导入python绘图matplotlib\r\n",
    "import matplotlib.pyplot as plt\r\n",
    "# 使用ipython的魔法方法，将绘制出的图像直接嵌入在notebook单元格中\r\n",
    "%matplotlib inline\r\n",
    "# 定义可视化图像函数\r\n",
    "def look_img(img):\r\n",
    "    '''opencv读入图像格式为BGR，matplotlib可视化格式为RGB，因此需将BGR转RGB'''\r\n",
    "    img_RGB = cv2.cvtColor(img, cv2.COLOR_BGR2RGB)\r\n",
    "    plt.imshow(img_RGB)\r\n",
    "    plt.show()\r\n",
    "\r\n",
    "# 导入预训练YOLOV3模型\r\n",
    "net = cv2.dnn.readNet('yolov3.weights','yolov3.cfg')\r\n",
    "# 获取三个尺度输出层的名称\r\n",
    "layersNames = net.getLayerNames()\r\n",
    "# output_layers_names = [layersNames[i[0] - 1] for i in net.getUnconnectedOutLayers()]\r\n",
    "output_layers_names =  [layersNames[i-1] for i in net.getUnconnectedOutLayers()]\r\n",
    "\r\n",
    "# 导入COCO数据集80个类别\r\n",
    "with open('coco.names','r') as f:\r\n",
    "    classes = f.read().splitlines()"
   ]
  },
  {
   "cell_type": "code",
   "execution_count": null,
   "metadata": {},
   "outputs": [],
   "source": [
    "CONF_THRES = 0.2 # 指定置信度阈值，阈值越大，置信度过滤越强\n",
    "NMS_THRES = 0.4 # 指定NMS阈值，阈值越小，NMS越强"
   ]
  },
  {
   "cell_type": "markdown",
   "metadata": {},
   "source": [
    "# 处理单帧函数"
   ]
  },
  {
   "cell_type": "code",
   "execution_count": null,
   "metadata": {},
   "outputs": [],
   "source": [
    "# 处理帧函数\n",
    "def process_frame(img):\n",
    "    # 获取图像宽高\n",
    "    height, width, _ = img.shape\n",
    "    blob = cv2.dnn.blobFromImage(img, 1/255, (416,416), (0,0,0), swapRB=True, crop=False)\n",
    "    net.setInput(blob)\n",
    "    # 前向推断\n",
    "    prediction = net.forward(output_layers_names)\n",
    "\n",
    "    # 从三个尺度输出结果中解析所有预测框信息\n",
    "    # 存放预测框坐标\n",
    "    boxes = []\n",
    "    # 存放置信度\n",
    "    objectness = []\n",
    "    # 存放类别概率\n",
    "    class_probs = []\n",
    "    # 存放预测框类别索引号\n",
    "    class_ids = []\n",
    "    # 存放预测框类别名称\n",
    "    class_names = []\n",
    "\n",
    "    for scale in prediction: # 遍历三种尺度\n",
    "        for bbox in scale: # 遍历每个预测框\n",
    "            obj = bbox[4] # 获取该预测框的confidence（objectness）\n",
    "            class_scores = bbox[5:] # 获取该预测框在COCO数据集80个类别的概率\n",
    "            class_id = np.argmax(class_scores) # 获取概率最高类别的索引号\n",
    "            class_name = classes[class_id] # 获取概率最高类别的名称\n",
    "            class_prob = class_scores[class_id] # 获取概率最高类别的概率\n",
    "\n",
    "            # 获取预测框中心点坐标、预测框宽高\n",
    "            center_x = int(bbox[0] * width)\n",
    "            center_y = int(bbox[1] * height)\n",
    "            w = int(bbox[2] * width)\n",
    "            h = int(bbox[3] * height)\n",
    "            # 计算预测框左上角坐标\n",
    "            x = int(center_x - w/2)\n",
    "            y = int(center_y - h/2)\n",
    "\n",
    "            # 将每个预测框的结果存放至上面的列表中\n",
    "            boxes.append([x, y, w, h])\n",
    "            objectness.append(float(obj))\n",
    "            class_ids.append(class_id)\n",
    "            class_names.append(class_name)\n",
    "            class_probs.append(class_prob)\n",
    "            \n",
    "    # 将预测框置信度objectness与各类别置信度class_pred相乘，获得最终该预测框的置信度confidence\n",
    "    confidences = np.array(class_probs) * np.array(objectness)\n",
    "\n",
    "    # 置信度过滤、非极大值抑制抑制NMS\n",
    "    indexes = cv2.dnn.NMSBoxes(boxes, confidences, CONF_THRES, NMS_THRES)\n",
    "    # 随机给每个预测框生成一种颜色\n",
    "    colors = [[255,0,255],[0,0,255],[0,255,255],[0,255,0],[255,255,0],[255,0,0],[180,187,28],[223,155,6],[94,218,121],[139,0,0],[77,169,10],[29,123,243],[66,77,229],[1,240,255],[140,47,240],[31,41,81],[29,123,243],[16,144,247],[151,57,224]]\n",
    "\n",
    "    # 遍历留下的每一个预测框，可视化\n",
    "    for i in indexes.flatten():\n",
    "        # 获取坐标\n",
    "        x, y, w, h = boxes[i]\n",
    "        # 获取置信度\n",
    "        confidence = str(round(confidences[i],2))\n",
    "        # 获取颜色，画框\n",
    "        color = colors[i%len(colors)]\n",
    "        cv2.rectangle(img, (x,y), (x+w,y+h), color, 5)\n",
    "\n",
    "        # 写类别名称和置信度\n",
    "        # 图片，添加的文字，左上角坐标，字体，字体大小，颜色，字体粗细\n",
    "        string = '{} {}'.format(class_names[i], confidence)\n",
    "        cv2.putText(img, string, (x, y+20), cv2.FONT_HERSHEY_PLAIN, 2, (255,255,255),5)\n",
    "    \n",
    "    return img"
   ]
  },
  {
   "cell_type": "code",
   "execution_count": null,
   "metadata": {},
   "outputs": [],
   "source": [
    "# 测试一下函数\n",
    "img = cv2.imread('test.jpg')\n",
    "img = process_frame(img)\n",
    "look_img(img)"
   ]
  },
  {
   "cell_type": "markdown",
   "metadata": {},
   "source": [
    "# 调用摄像头获取每帧（模板）"
   ]
  },
  {
   "cell_type": "code",
   "execution_count": null,
   "metadata": {},
   "outputs": [],
   "source": [
    "# 调用摄像头逐帧实时处理模板\n",
    "# 不需修改任何代码，只需修改process_frame函数即可\n",
    "# 同济子豪兄 2021-7-8\n",
    "\n",
    "# 导入opencv-python\n",
    "import cv2\n",
    "import time\n",
    "\n",
    "# 获取摄像头，传入0表示获取系统默认摄像头\n",
    "cap = cv2.VideoCapture(1)\n",
    "\n",
    "# 打开cap\n",
    "cap.open(0)\n",
    "\n",
    "# 无限循环，直到break被触发\n",
    "while cap.isOpened():\n",
    "    # 获取画面\n",
    "    success, frame = cap.read()\n",
    "    if not success:\n",
    "        print('Error')\n",
    "        break\n",
    "    start_time = time.time()\n",
    "    \n",
    "    ## !!!处理帧函数\n",
    "    frame = process_frame(frame)\n",
    "    \n",
    "    # 展示处理后的三通道图像\n",
    "    cv2.imshow('my_window',frame)\n",
    "\n",
    "    if cv2.waitKey(1) in [ord('q'),27]: # 按键盘上的q或esc退出（在英文输入法下）\n",
    "        break\n",
    "    \n",
    "# 关闭摄像头\n",
    "cap.release()\n",
    "\n",
    "# 关闭图像窗口\n",
    "cv2.destroyAllWindows()"
   ]
  },
  {
   "cell_type": "code",
   "execution_count": null,
   "metadata": {},
   "outputs": [],
   "source": []
  }
 ],
 "metadata": {
  "interpreter": {
   "hash": "af407973ba12897262deda9d8992946cc1a9873fff2de40f1acc89cdf9010052"
  },
  "kernelspec": {
   "display_name": "Python 3.7.11 64-bit",
   "name": "python3"
  },
  "language_info": {
   "name": "python",
   "version": ""
  }
 },
 "nbformat": 4,
 "nbformat_minor": 5
}