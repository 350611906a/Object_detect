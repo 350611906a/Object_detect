{
 "cells": [
  {
   "cell_type": "markdown",
   "metadata": {},
   "source": [
    "# YOLOV3目标检测"
   ]
  },
  {
   "cell_type": "markdown",
   "metadata": {},
   "source": [
    "YOLOV3算法精讲与论文逐句精读：同济子豪兄：https://space.bilibili.com/1900783\n",
    "\n",
    "不注明出处的转载视为侵权。\n",
    "\n",
    "2021-08-28"
   ]
  },
  {
   "cell_type": "markdown",
   "metadata": {},
   "source": []
  },
  {
   "cell_type": "markdown",
   "metadata": {},
   "source": [
    "# 准备文件，导入工具包"
   ]
  },
  {
   "cell_type": "markdown",
   "metadata": {},
   "source": [
    "YOLOV3-模型权重文件：https://pjreddie.com/darknet/yolo/\n",
    "\n",
    "COCO数据集80个类别名称：https://github.com/pjreddie/darknet/blob/master/data/coco.names"
   ]
  },
  {
   "cell_type": "code",
   "execution_count": null,
   "metadata": {},
   "outputs": [],
   "source": [
    "import cv2\n",
    "\n",
    "import numpy as np"
   ]
  },
  {
   "cell_type": "code",
   "execution_count": null,
   "metadata": {},
   "outputs": [],
   "source": [
    "# 导入python绘图matplotlib\n",
    "import matplotlib.pyplot as plt\n",
    "# 使用ipython的魔法方法，将绘制出的图像直接嵌入在notebook单元格中\n",
    "%matplotlib inline\n",
    "# 定义可视化图像函数\n",
    "def look_img(img):\n",
    "    '''opencv读入图像格式为BGR，matplotlib可视化格式为RGB，因此需将BGR转RGB'''\n",
    "    img_RGB = cv2.cvtColor(img, cv2.COLOR_BGR2RGB)\n",
    "    plt.imshow(img_RGB)\n",
    "    plt.show()"
   ]
  },
  {
   "cell_type": "markdown",
   "metadata": {},
   "source": [
    "# 导入预训练YOLOV3模型"
   ]
  },
  {
   "cell_type": "code",
   "execution_count": null,
   "metadata": {},
   "outputs": [],
   "source": [
    "net = cv2.dnn.readNet('yolov3.weights','yolov3.cfg')"
   ]
  },
  {
   "cell_type": "markdown",
   "metadata": {},
   "source": [
    "# 导入COCO数据集80个类别"
   ]
  },
  {
   "cell_type": "code",
   "execution_count": null,
   "metadata": {},
   "outputs": [],
   "source": [
    "with open('coco.names','r') as f:\n",
    "    classes = f.read().splitlines()"
   ]
  },
  {
   "cell_type": "code",
   "execution_count": null,
   "metadata": {},
   "outputs": [],
   "source": [
    "classes"
   ]
  },
  {
   "cell_type": "markdown",
   "metadata": {},
   "source": [
    "# 导入图像"
   ]
  },
  {
   "cell_type": "code",
   "execution_count": null,
   "metadata": {},
   "outputs": [],
   "source": [
    "img = cv2.imread('test.jpg')"
   ]
  },
  {
   "cell_type": "code",
   "execution_count": null,
   "metadata": {},
   "outputs": [],
   "source": [
    "look_img(img)"
   ]
  },
  {
   "cell_type": "code",
   "execution_count": null,
   "metadata": {},
   "outputs": [],
   "source": [
    "img.shape"
   ]
  },
  {
   "cell_type": "code",
   "execution_count": null,
   "metadata": {},
   "outputs": [],
   "source": [
    "# 获取图像宽高\n",
    "height, width, _ = img.shape"
   ]
  },
  {
   "cell_type": "markdown",
   "metadata": {},
   "source": [
    "# 对图像预处理"
   ]
  },
  {
   "cell_type": "code",
   "execution_count": null,
   "metadata": {},
   "outputs": [],
   "source": [
    "blob = cv2.dnn.blobFromImage(img, 1/255, (416,416), (0,0,0), swapRB=True, crop=False)"
   ]
  },
  {
   "cell_type": "code",
   "execution_count": null,
   "metadata": {},
   "outputs": [],
   "source": [
    "blob.shape"
   ]
  },
  {
   "cell_type": "code",
   "execution_count": null,
   "metadata": {},
   "outputs": [],
   "source": [
    "net.setInput(blob)"
   ]
  },
  {
   "cell_type": "markdown",
   "metadata": {},
   "source": [
    "# 探索YOLOV3神经网络"
   ]
  },
  {
   "cell_type": "code",
   "execution_count": null,
   "metadata": {},
   "outputs": [],
   "source": [
    "# 获取网络所有层名字\n",
    "net.getLayerNames()"
   ]
  },
  {
   "cell_type": "code",
   "execution_count": null,
   "metadata": {},
   "outputs": [],
   "source": [
    "# # 获取某一层的权重值\n",
    "# net.getParam('conv_14').shape"
   ]
  },
  {
   "cell_type": "code",
   "execution_count": null,
   "metadata": {},
   "outputs": [],
   "source": [
    "# 获取三个尺度输出层的索引号\n",
    "net.getUnconnectedOutLayers()"
   ]
  },
  {
   "cell_type": "code",
   "execution_count": null,
   "metadata": {},
   "outputs": [],
   "source": [
    "# 获取三个尺度输出层的名称\r\n",
    "layersNames = net.getLayerNames()\r\n",
    "# print(layersNames)\r\n",
    "# output_layers_names = [layersNames[i[0] - 1] for i in net.getUnconnectedOutLayers()]\r\n",
    "output_layers_names = [layersNames[i-1] for i in net.getUnconnectedOutLayers()]\r\n",
    "# output_layers_names"
   ]
  },
  {
   "cell_type": "markdown",
   "metadata": {},
   "source": [
    "# 输入YOLOV3神经网络，前向推断预测"
   ]
  },
  {
   "cell_type": "code",
   "execution_count": null,
   "metadata": {},
   "outputs": [],
   "source": [
    "# 前向推断\n",
    "prediction = net.forward(output_layers_names)"
   ]
  },
  {
   "cell_type": "markdown",
   "metadata": {},
   "source": [
    "# 分析YOLOV3三个尺度的输出结果"
   ]
  },
  {
   "cell_type": "code",
   "execution_count": null,
   "metadata": {},
   "outputs": [],
   "source": [
    "len(prediction)"
   ]
  },
  {
   "cell_type": "code",
   "execution_count": null,
   "metadata": {},
   "outputs": [],
   "source": [
    "prediction[0].shape"
   ]
  },
  {
   "cell_type": "code",
   "execution_count": null,
   "metadata": {},
   "outputs": [],
   "source": [
    "prediction[1].shape"
   ]
  },
  {
   "cell_type": "code",
   "execution_count": null,
   "metadata": {},
   "outputs": [],
   "source": [
    "prediction[2].shape"
   ]
  },
  {
   "cell_type": "markdown",
   "metadata": {},
   "source": [
    "$13 \\times 13 \\times 3 = 507$\n",
    "\n",
    "$26 \\times 26 \\times 3 = 2028$\n",
    "\n",
    "$52 \\times 52 \\times 3 = 8112$"
   ]
  },
  {
   "cell_type": "code",
   "execution_count": null,
   "metadata": {},
   "outputs": [],
   "source": [
    "# 查看第二个尺度，索引为99的框的85维向量\n",
    "prediction[1][99].shape"
   ]
  },
  {
   "cell_type": "code",
   "execution_count": null,
   "metadata": {
    "scrolled": false
   },
   "outputs": [],
   "source": [
    "prediction[1][99]"
   ]
  },
  {
   "cell_type": "markdown",
   "metadata": {},
   "source": [
    "# 从三个尺度输出结果中解析所有预测框信息"
   ]
  },
  {
   "cell_type": "code",
   "execution_count": null,
   "metadata": {},
   "outputs": [],
   "source": [
    "# 存放预测框坐标\n",
    "boxes = []\n",
    "\n",
    "# 存放置信度\n",
    "objectness = []\n",
    "\n",
    "# 存放类别概率\n",
    "class_probs = []\n",
    "\n",
    "# 存放预测框类别索引号\n",
    "class_ids = []\n",
    "\n",
    "# 存放预测框类别名称\n",
    "class_names = []"
   ]
  },
  {
   "cell_type": "code",
   "execution_count": null,
   "metadata": {},
   "outputs": [],
   "source": [
    "for scale in prediction: # 遍历三种尺度\n",
    "    for bbox in scale: # 遍历每个预测框\n",
    "        obj = bbox[4] # 获取该预测框的confidence（objectness）\n",
    "        class_scores = bbox[5:] # 获取该预测框在COCO数据集80个类别的概率\n",
    "        class_id = np.argmax(class_scores) # 获取概率最高类别的索引号\n",
    "        class_name = classes[class_id] # 获取概率最高类别的名称\n",
    "        class_prob = class_scores[class_id] # 获取概率最高类别的概率\n",
    "        \n",
    "        # 获取预测框中心点坐标、预测框宽高\n",
    "        center_x = int(bbox[0] * width)\n",
    "        center_y = int(bbox[1] * height)\n",
    "        w = int(bbox[2] * width)\n",
    "        h = int(bbox[3] * height)\n",
    "        # 计算预测框左上角坐标\n",
    "        x = int(center_x - w/2)\n",
    "        y = int(center_y - h/2)\n",
    "        \n",
    "        # 将每个预测框的结果存放至上面的列表中\n",
    "        boxes.append([x, y, w, h])\n",
    "        objectness.append(float(obj))\n",
    "        class_ids.append(class_id)\n",
    "        class_names.append(class_name)\n",
    "        class_probs.append(class_prob)"
   ]
  },
  {
   "cell_type": "code",
   "execution_count": null,
   "metadata": {},
   "outputs": [],
   "source": [
    "boxes"
   ]
  },
  {
   "cell_type": "code",
   "execution_count": null,
   "metadata": {},
   "outputs": [],
   "source": [
    "len(boxes)"
   ]
  },
  {
   "cell_type": "code",
   "execution_count": null,
   "metadata": {},
   "outputs": [],
   "source": [
    "len(objectness)"
   ]
  },
  {
   "cell_type": "markdown",
   "metadata": {},
   "source": [
    "# 将预测框置信度objectness与各类别置信度class_pred相乘，获得最终该预测框的置信度confidence"
   ]
  },
  {
   "cell_type": "code",
   "execution_count": null,
   "metadata": {},
   "outputs": [],
   "source": [
    "confidences = np.array(class_probs) * np.array(objectness)"
   ]
  },
  {
   "cell_type": "code",
   "execution_count": null,
   "metadata": {},
   "outputs": [],
   "source": [
    "len(confidences)"
   ]
  },
  {
   "cell_type": "markdown",
   "metadata": {},
   "source": [
    "# objectness、class_pred、confidence三者的关系"
   ]
  },
  {
   "cell_type": "code",
   "execution_count": null,
   "metadata": {},
   "outputs": [],
   "source": [
    "plt.plot(objectness, label='objectness')\n",
    "plt.plot(class_probs, label='class_prob')\n",
    "plt.plot(confidences, label='confidence')\n",
    "plt.legend()\n",
    "plt.show()"
   ]
  },
  {
   "cell_type": "markdown",
   "metadata": {},
   "source": [
    "# 置信度过滤、非极大值抑制NMS"
   ]
  },
  {
   "cell_type": "code",
   "execution_count": null,
   "metadata": {},
   "outputs": [],
   "source": [
    "CONF_THRES = 0.1 # 指定置信度阈值，阈值越大，置信度过滤越强\n",
    "NMS_THRES = 0.4 # 指定NMS阈值，阈值越小，NMS越强"
   ]
  },
  {
   "cell_type": "code",
   "execution_count": null,
   "metadata": {},
   "outputs": [],
   "source": [
    "indexes = cv2.dnn.NMSBoxes(boxes, confidences, CONF_THRES, NMS_THRES)"
   ]
  },
  {
   "cell_type": "code",
   "execution_count": null,
   "metadata": {},
   "outputs": [],
   "source": [
    "indexes.flatten()"
   ]
  },
  {
   "cell_type": "code",
   "execution_count": null,
   "metadata": {},
   "outputs": [],
   "source": [
    "len(indexes.flatten())"
   ]
  },
  {
   "cell_type": "code",
   "execution_count": null,
   "metadata": {},
   "outputs": [],
   "source": [
    "# 随机给每个预测框生成一种颜色\n",
    "# colors = np.random.uniform(0, 255, size=(len(boxes),3))\n",
    "colors = [[255,0,255],[0,0,255],[0,255,255],[0,255,0],[255,255,0],[255,0,0],[180,187,28],[223,155,6],[94,218,121],[139,0,0],[77,169,10],[29,123,243],[66,77,229],[1,240,255],[140,47,240],[31,41,81],[29,123,243],[16,144,247],[151,57,224]]"
   ]
  },
  {
   "cell_type": "code",
   "execution_count": null,
   "metadata": {},
   "outputs": [],
   "source": [
    "# 遍历留下的每一个预测框，可视化\n",
    "for i in indexes.flatten():\n",
    "    \n",
    "    # 获取坐标\n",
    "    x, y, w, h = boxes[i]\n",
    "    # 获取置信度\n",
    "    confidence = str(round(confidences[i],2))\n",
    "    # 获取颜色，画框\n",
    "    color = colors[i%len(colors)]\n",
    "    cv2.rectangle(img, (x,y), (x+w,y+h), color, 8)\n",
    "    \n",
    "    # 写类别名称和置信度\n",
    "    # 图片，添加的文字，左上角坐标，字体，字体大小，颜色，字体粗细\n",
    "    string = '{} {}'.format(class_names[i], confidence)\n",
    "    cv2.putText(img, string, (x, y+20), cv2.FONT_HERSHEY_PLAIN, 3, (255,255,255),5)"
   ]
  },
  {
   "cell_type": "code",
   "execution_count": null,
   "metadata": {
    "scrolled": true
   },
   "outputs": [],
   "source": [
    "look_img(img)"
   ]
  },
  {
   "cell_type": "code",
   "execution_count": null,
   "metadata": {},
   "outputs": [],
   "source": [
    "# 保存图片\n",
    "cv2.imwrite('result-test.jpg',img)"
   ]
  },
  {
   "cell_type": "code",
   "execution_count": null,
   "metadata": {},
   "outputs": [],
   "source": []
  }
 ],
 "metadata": {
  "interpreter": {
   "hash": "3caf13703c5b1c02abff9fa597e671e1239d1d668b6a345ae62ddadff9d8fc63"
  },
  "kernelspec": {
   "display_name": "Python 3.7.0 64-bit ('py37': conda)",
   "name": "python3"
  },
  "language_info": {
   "name": "python",
   "version": ""
  }
 },
 "nbformat": 4,
 "nbformat_minor": 5
}